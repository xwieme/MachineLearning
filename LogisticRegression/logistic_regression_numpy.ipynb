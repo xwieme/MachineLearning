{
 "cells": [
  {
   "cell_type": "markdown",
   "metadata": {},
   "source": [
    "# Logistic regression"
   ]
  },
  {
   "cell_type": "code",
   "execution_count": 13,
   "metadata": {},
   "outputs": [],
   "source": [
    "import pandas as pd\n",
    "import numpy as np\n",
    "import plotly.express as px\n",
    "from sklearn.model_selection import train_test_split\n",
    "from sklearn.preprocessing import StandardScaler"
   ]
  },
  {
   "cell_type": "code",
   "execution_count": 2,
   "metadata": {},
   "outputs": [],
   "source": [
    "def sigmoid(X, theta):\n",
    "    return 1/(1+np.exp(-X@theta))"
   ]
  },
  {
   "cell_type": "code",
   "execution_count": 3,
   "metadata": {},
   "outputs": [],
   "source": [
    "def loglikelihood(theta, X, y):\n",
    "    return -np.sum(y*np.log(sigmoid(X, theta)) + (1-y)*np.log(1-sigmoid(X, theta)))/X.shape[0]"
   ]
  },
  {
   "cell_type": "code",
   "execution_count": 4,
   "metadata": {},
   "outputs": [],
   "source": [
    "df = pd.read_csv(\"../data/BreastCancer.csv\")\n",
    "df.drop(labels=[\"id\", \"Unnamed: 32\"], axis=1, inplace=True)\n",
    "\n",
    "# Change the labels M and B to 1 and 0 respectively\n",
    "df.replace(\"M\", 1, inplace=True)\n",
    "df.replace(\"B\", 0, inplace=True)"
   ]
  },
  {
   "cell_type": "code",
   "execution_count": 5,
   "metadata": {},
   "outputs": [],
   "source": [
    "# Create feature vector X and class vector y\n",
    "X = df.drop(labels=['diagnosis'], axis=1).to_numpy()\n",
    "y = df['diagnosis'].to_numpy()\n",
    "\n",
    "# Split the data into a 80% training and 20% test data\n",
    "X_train, X_test, y_train, y_test = train_test_split(X, y, test_size=0.2)"
   ]
  },
  {
   "cell_type": "code",
   "execution_count": 7,
   "metadata": {},
   "outputs": [],
   "source": [
    "def gradient_descent(X_train, y_train, learning_rate, num_iterations, threshold=1e-3, blog=False):\n",
    "    \"\"\"\n",
    "    Use gradient descent to optimize regression parameters theta in order to find the best straight\n",
    "    line for the given points\n",
    "\n",
    "    :param points: points to fit the line\n",
    "    :param learning_rate: learning rate used in the algorithm\n",
    "    :param num_iterations: maximum number of iterations\n",
    "    :param threshold: minimum difference between two sequential mean squared\n",
    "        error values (default is 1e-3)\n",
    "    :param blog: indicates to print the cost at every step (default is False)\n",
    "    \"\"\"\n",
    "\n",
    "    # Init values\n",
    "    theta = np.zeros(X_train.shape[1])\n",
    "    m = X_train.shape[0]\n",
    "    iteration = 0\n",
    "\n",
    "    J = loglikelihood(theta, X_train, y_train)\n",
    "    prev_J = np.inf\n",
    "\n",
    "    # Loop until convergence or maximum number of iterations is reached\n",
    "    while iteration < num_iterations and np.all(np.abs(J - prev_J) > threshold):\n",
    "\n",
    "        new_thetas = np.zeros(len(theta))\n",
    "        prev_J = J\n",
    "\n",
    "        # Compute new theta's using the gradient\n",
    "        for j, theta_j in enumerate(theta):\n",
    "            new_thetas[j] = theta_j - learning_rate / m * np.sum(\n",
    "                (sigmoid(X_train, theta) - y_train) * X_train[:, j]\n",
    "            )\n",
    "\n",
    "        theta = new_thetas\n",
    "        # Compute new MSE\n",
    "        J = loglikelihood(theta, X_train, y_train)\n",
    "\n",
    "        if blog:\n",
    "            print(f\"{iteration}: {J}\")\n",
    "\n",
    "        iteration += 1\n",
    "\n",
    "    return theta, J\n"
   ]
  },
  {
   "cell_type": "code",
   "execution_count": 8,
   "metadata": {},
   "outputs": [
    {
     "name": "stdout",
     "output_type": "stream",
     "text": [
      "0: 0.1839334736126247\n",
      "1: 0.14762858425386402\n",
      "2: 0.13029026266271282\n",
      "3: 0.12237317931385867\n",
      "4: 0.11728024735654992\n",
      "5: 0.11328934457317402\n",
      "6: 0.10994902145089983\n",
      "7: 0.10706906108956514\n",
      "8: 0.10454225068132868\n",
      "9: 0.10229786748414307\n",
      "10: 0.10028512556386737\n",
      "11: 0.09846573660598545\n",
      "12: 0.09680993490853435\n",
      "13: 0.09529407991787624\n",
      "14: 0.09389908793533164\n",
      "15: 0.09260934913436224\n",
      "16: 0.09141195138863642\n",
      "17: 0.09029610889576402\n",
      "18: 0.08925273290649562\n",
      "19: 0.08827410391658468\n"
     ]
    }
   ],
   "source": [
    "X_train_scaled = StandardScaler().fit_transform(X_train)\n",
    "\n",
    "theta_opt, J = gradient_descent(X_train_scaled, y_train, 1, 1e3, blog=True)"
   ]
  },
  {
   "cell_type": "code",
   "execution_count": 12,
   "metadata": {},
   "outputs": [
    {
     "name": "stdout",
     "output_type": "stream",
     "text": [
      "0.9824561403508771\n"
     ]
    }
   ],
   "source": [
    "X_test_scaled = StandardScaler().fit_transform(X_test)\n",
    "\n",
    "y_pred = [0 if h < 0.5 else 1 for h in sigmoid(X_test_scaled, theta_opt)]\n",
    "accuracy = np.sum(y_pred == y_test)/y_test.shape[0]\n",
    "\n",
    "print(accuracy)"
   ]
  },
  {
   "cell_type": "code",
   "execution_count": null,
   "metadata": {},
   "outputs": [],
   "source": []
  }
 ],
 "metadata": {
  "interpreter": {
   "hash": "1a0ab666db3a5de9beeb0227a3e4f8e08a5e41653a682b5b11b0b57ebeb912a2"
  },
  "kernelspec": {
   "display_name": "Python 3.8.5 ('base')",
   "language": "python",
   "name": "python3"
  },
  "language_info": {
   "codemirror_mode": {
    "name": "ipython",
    "version": 3
   },
   "file_extension": ".py",
   "mimetype": "text/x-python",
   "name": "python",
   "nbconvert_exporter": "python",
   "pygments_lexer": "ipython3",
   "version": "3.8.5"
  },
  "orig_nbformat": 4
 },
 "nbformat": 4,
 "nbformat_minor": 2
}
