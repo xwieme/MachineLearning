{
 "cells": [
  {
   "cell_type": "markdown",
   "metadata": {},
   "source": [
    "# K-nearest neighbors (KNN)"
   ]
  },
  {
   "cell_type": "markdown",
   "metadata": {},
   "source": [
    "## Theory"
   ]
  },
  {
   "cell_type": "markdown",
   "metadata": {},
   "source": [
    "K-nearest neighbors is a supervised machinlearning algorithm used for classification \n",
    "and regression. It assumes that data points corresponding to the same class are close \n",
    "to eachother. The algorithm computes the distance between a new data point and \n",
    "all other data points. Subsequently, it selects the K nearest neighbors and counts which \n",
    "class is most common. The most common class in the K nearest neighbors is the predicted \n",
    "class of the new example."
   ]
  },
  {
   "cell_type": "markdown",
   "metadata": {},
   "source": [
    "## Implementation"
   ]
  },
  {
   "cell_type": "code",
   "execution_count": 42,
   "metadata": {},
   "outputs": [],
   "source": [
    "import numpy as np\n",
    "import pandas as pd \n",
    "import warnings\n",
    "from collections import Counter"
   ]
  },
  {
   "cell_type": "code",
   "execution_count": 51,
   "metadata": {},
   "outputs": [],
   "source": [
    "def k_nearest_neighbors(data, predict, k=3):\n",
    "\tif len(data) >= k:\n",
    "\t\twarnings.warn('K is set to a value less than total voting groups!')\n",
    "\n",
    "\tdistances = []\n",
    "\n",
    "\t# Compute the distance between the predict data point and each training data point\n",
    "\tfor group in data:\n",
    "\t\tfor features in data[group]:\n",
    "\t\t\teuclidean_distance = np.linalg.norm(np.array(features) - np.array(predict))\n",
    "\t\t\tdistances.append([euclidean_distance, group])\n",
    "\n",
    "\t# Select the k nearest neighbors and count which class is the most common\n",
    "\tvotes = [distance[1] for distance in sorted(distances)[:k]]\n",
    "\tvote_result = Counter(votes).most_common(n=1)[0][0]\t\t\n",
    "\tconfidence = Counter(votes).most_common(n=1)[0][1] / k \n",
    "\n",
    "\treturn vote_result, confidence"
   ]
  },
  {
   "cell_type": "code",
   "execution_count": 61,
   "metadata": {},
   "outputs": [
    {
     "name": "stdout",
     "output_type": "stream",
     "text": [
      "Accuracy 0.9416909620991254\n"
     ]
    }
   ],
   "source": [
    "df = pd.read_csv(\"../data/data.csv\")\n",
    "df.drop(labels=[\"id\", \"Unnamed: 32\"], axis=1, inplace=True)\n",
    "\n",
    "test_size = 0.2\n",
    "benign_data = df[df['diagnosis'] == 'B'].drop(labels=['diagnosis'], axis=1).to_numpy()\n",
    "malignant_data = df[df['diagnosis'] == 'M'].drop(labels=['diagnosis'], axis=1).to_numpy()\n",
    "\n",
    "train_set = {0: benign_data[:int(test_size*df.shape[0])] , 1: malignant_data[:int(test_size*df.shape[0])]}\n",
    "test_set = {0: benign_data[int(test_size*df.shape[0]):], 1: malignant_data[int(test_size*df.shape[0]):]}\n",
    "\n",
    "correct = 0\n",
    "total = 0\n",
    "\n",
    "for group in test_set:\n",
    "    for data in test_set[group]:\n",
    "        vote, confidence = k_nearest_neighbors(train_set, data, k=5)\n",
    "        correct += int(group == vote)\n",
    "        total += 1\n",
    "\n",
    "print('Accuracy', correct/total)"
   ]
  },
  {
   "cell_type": "code",
   "execution_count": null,
   "metadata": {},
   "outputs": [],
   "source": []
  }
 ],
 "metadata": {
  "interpreter": {
   "hash": "1a0ab666db3a5de9beeb0227a3e4f8e08a5e41653a682b5b11b0b57ebeb912a2"
  },
  "kernelspec": {
   "display_name": "Python 3.8.5 ('base')",
   "language": "python",
   "name": "python3"
  },
  "language_info": {
   "codemirror_mode": {
    "name": "ipython",
    "version": 3
   },
   "file_extension": ".py",
   "mimetype": "text/x-python",
   "name": "python",
   "nbconvert_exporter": "python",
   "pygments_lexer": "ipython3",
   "version": "3.8.5"
  },
  "orig_nbformat": 4
 },
 "nbformat": 4,
 "nbformat_minor": 2
}
