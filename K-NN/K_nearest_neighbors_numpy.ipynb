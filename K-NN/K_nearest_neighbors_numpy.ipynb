{
 "cells": [
  {
   "cell_type": "markdown",
   "metadata": {},
   "source": [
    "# K-nearest neighbors (KNN)"
   ]
  },
  {
   "cell_type": "markdown",
   "metadata": {},
   "source": [
    "## Theory"
   ]
  },
  {
   "cell_type": "markdown",
   "metadata": {},
   "source": [
    "K-nearest neighbors is a supervised machinlearning algorithm used for classification \n",
    "and regression. It assumes that data points corresponding to the same class are close \n",
    "to eachother. The algorithm computes the distance between a new data point and \n",
    "all other data points. Subsequently, it selects the K nearest neighbors and counts which \n",
    "class is most common. The most common class in the K nearest neighbors is the predicted \n",
    "class of the new example."
   ]
  },
  {
   "cell_type": "markdown",
   "metadata": {},
   "source": [
    "## Implementation"
   ]
  },
  {
   "cell_type": "code",
   "execution_count": 45,
   "metadata": {},
   "outputs": [],
   "source": [
    "import numpy as np\n",
    "import pandas as pd \n",
    "from sklearn.model_selection import train_test_split\n",
    "from scipy.stats import mode"
   ]
  },
  {
   "cell_type": "code",
   "execution_count": 58,
   "metadata": {},
   "outputs": [],
   "source": [
    "def k_nearest_neighbors(X_train, y_train, X_test, k=3):\n",
    "\t\"\"\"\n",
    "\tRuns the K nearest neighbors algorithm to determine \n",
    "\tto which class the X_test values belong to.\n",
    "\n",
    "\t:param X_train: feature matrix, where every row is a training example\n",
    "\t:param y_train: vector of the class label where the corresponding feature vector belongs to\n",
    "\t:param X_test: feature matrix of new examples\n",
    "\t:param k: number of groups (default is 3)\n",
    "\t\"\"\"\n",
    "\tpredictions = []\n",
    "\n",
    "\t# Compute the distance between the predict data point and each training data point\n",
    "\tfor x_test in X_test:\n",
    "\n",
    "\t\tdistances = []\n",
    "\n",
    "\t\tfor x_train in X_train:\n",
    "\t\t\t\n",
    "\t\t\tdistance = np.linalg.norm(x_train - x_test)\n",
    "\t\t\tdistances.append(distance)\n",
    "\n",
    "\t\t# Get the labels of the k closest training points\n",
    "\t\tsort_indices = np.argsort(distances)[:k]\n",
    "\t\tlabels = y_train[sort_indices]\n",
    "\t\t\n",
    "\t\t# Assing the most common label to the new data point\n",
    "\t\tpredictions.append(mode(labels)[0])\n",
    "\n",
    "\treturn np.asarray(predictions).flatten()"
   ]
  },
  {
   "cell_type": "code",
   "execution_count": 88,
   "metadata": {},
   "outputs": [
    {
     "name": "stdout",
     "output_type": "stream",
     "text": [
      "0.9210526315789473\n"
     ]
    }
   ],
   "source": [
    "df = pd.read_csv(\"../data/BreastCancer.csv\")\n",
    "df.drop(labels=[\"id\", \"Unnamed: 32\"], axis=1, inplace=True)\n",
    "\n",
    "X = df.drop(labels=[\"diagnosis\"], axis=1).to_numpy()\n",
    "y = df[\"diagnosis\"].to_numpy()\n",
    "\n",
    "X_train, X_test, y_train, y_test = train_test_split(X, y, test_size=0.2)\n",
    "\n",
    "# Compute the accuracy of the algorithm\n",
    "score = np.equal(k_nearest_neighbors(X_train, y_train, X_test, k=2), y_test).sum()/y_test.shape[0]\n",
    "print(score)"
   ]
  },
  {
   "cell_type": "code",
   "execution_count": null,
   "metadata": {},
   "outputs": [],
   "source": []
  }
 ],
 "metadata": {
  "interpreter": {
   "hash": "1a0ab666db3a5de9beeb0227a3e4f8e08a5e41653a682b5b11b0b57ebeb912a2"
  },
  "kernelspec": {
   "display_name": "Python 3.8.5 ('base')",
   "language": "python",
   "name": "python3"
  },
  "language_info": {
   "codemirror_mode": {
    "name": "ipython",
    "version": 3
   },
   "file_extension": ".py",
   "mimetype": "text/x-python",
   "name": "python",
   "nbconvert_exporter": "python",
   "pygments_lexer": "ipython3",
   "version": "3.8.5"
  },
  "orig_nbformat": 4
 },
 "nbformat": 4,
 "nbformat_minor": 2
}
